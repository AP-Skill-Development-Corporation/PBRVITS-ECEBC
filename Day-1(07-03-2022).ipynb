{
 "cells": [
  {
   "cell_type": "code",
   "execution_count": 2,
   "id": "5ce8242e",
   "metadata": {},
   "outputs": [
    {
     "name": "stdout",
     "output_type": "stream",
     "text": [
      "VITS College\n"
     ]
    }
   ],
   "source": [
    "print(\"VITS College\")"
   ]
  },
  {
   "cell_type": "code",
   "execution_count": 6,
   "id": "a76ec076",
   "metadata": {
    "collapsed": true
   },
   "outputs": [
    {
     "name": "stdout",
     "output_type": "stream",
     "text": [
      "400\n",
      "5.8\n"
     ]
    }
   ],
   "source": [
    "print(400)\n",
    "print(5.8)"
   ]
  },
  {
   "cell_type": "code",
   "execution_count": 8,
   "id": "e1ce3efc",
   "metadata": {},
   "outputs": [
    {
     "name": "stdout",
     "output_type": "stream",
     "text": [
      "20731A04I5\n"
     ]
    }
   ],
   "source": [
    "print('20731A04I5')"
   ]
  },
  {
   "cell_type": "markdown",
   "id": "8f9168f9",
   "metadata": {},
   "source": [
    "### Data Types\n",
    "- int\n",
    "- float\n",
    "- str"
   ]
  },
  {
   "cell_type": "code",
   "execution_count": 12,
   "id": "5b5b5376",
   "metadata": {
    "collapsed": true
   },
   "outputs": [
    {
     "name": "stdout",
     "output_type": "stream",
     "text": [
      "geethanjali\n",
      "198\n",
      "7.2\n"
     ]
    }
   ],
   "source": [
    "a = 'geethanjali'\n",
    "b = 198\n",
    "c = 7.2\n",
    "print(a,b,c,sep='\\n')"
   ]
  },
  {
   "cell_type": "code",
   "execution_count": 13,
   "id": "92ce11c3",
   "metadata": {
    "collapsed": true
   },
   "outputs": [
    {
     "name": "stdout",
     "output_type": "stream",
     "text": [
      "geethanjali \n",
      " 198 \n",
      " 7.2\n"
     ]
    }
   ],
   "source": [
    "print(a,'\\n',b,'\\n',c)"
   ]
  },
  {
   "cell_type": "code",
   "execution_count": 10,
   "id": "2d7840c8",
   "metadata": {
    "collapsed": true
   },
   "outputs": [
    {
     "name": "stdout",
     "output_type": "stream",
     "text": [
      "geethanjali\n",
      "198\n",
      "7.2\n"
     ]
    }
   ],
   "source": [
    "print(a)\n",
    "print(b)\n",
    "print(c)"
   ]
  },
  {
   "cell_type": "markdown",
   "id": "c4821d92",
   "metadata": {},
   "source": [
    "- **type()** method used to check the data type of a particular variable or value"
   ]
  },
  {
   "cell_type": "code",
   "execution_count": 14,
   "id": "00e8b71d",
   "metadata": {
    "scrolled": false
   },
   "outputs": [
    {
     "data": {
      "text/plain": [
       "int"
      ]
     },
     "execution_count": 14,
     "metadata": {},
     "output_type": "execute_result"
    }
   ],
   "source": [
    "type(b)"
   ]
  },
  {
   "cell_type": "code",
   "execution_count": 26,
   "id": "ae4d6992",
   "metadata": {},
   "outputs": [
    {
     "data": {
      "text/plain": [
       "str"
      ]
     },
     "execution_count": 26,
     "metadata": {},
     "output_type": "execute_result"
    }
   ],
   "source": [
    "type('7-3-2022')"
   ]
  },
  {
   "cell_type": "markdown",
   "id": "84b99a03",
   "metadata": {},
   "source": [
    "#### Variables\n",
    "- Definition: a memory location where we can store any value.\n",
    " **Variable Naming Rules**\n",
    " - Should starts with alphabets or characters\n",
    " - Should not start with numbers and doesn't contains any special characters or spaces.\n",
    " - we can't use keywords as variable names.\n",
    " - Numbers are allowed after characters.\n",
    " - underscore is acceptable in variable name."
   ]
  },
  {
   "cell_type": "code",
   "execution_count": null,
   "id": "ad2d475a",
   "metadata": {},
   "outputs": [],
   "source": [
    "phn_num\n",
    "2d\n",
    "v@lue\n",
    "if\n",
    "_sqrt\n",
    "roll num\n",
    "vAlUe\n",
    "Va3lr"
   ]
  },
  {
   "cell_type": "markdown",
   "id": "7aff28da",
   "metadata": {},
   "source": [
    "### input methods\n",
    "\n",
    "- static method\n",
    "    - constant values which are directly assigned\n",
    "- dynamic method\n",
    "    - runtime input which is given by the user."
   ]
  },
  {
   "cell_type": "code",
   "execution_count": 29,
   "id": "002f9182",
   "metadata": {},
   "outputs": [
    {
     "name": "stdout",
     "output_type": "stream",
     "text": [
      "vikas 231 20\n"
     ]
    }
   ],
   "source": [
    "name = 'vikas'\n",
    "roll = 231\n",
    "age = 20\n",
    "print(name,roll,age)"
   ]
  },
  {
   "cell_type": "code",
   "execution_count": 36,
   "id": "e89e9d8b",
   "metadata": {},
   "outputs": [
    {
     "name": "stdout",
     "output_type": "stream",
     "text": [
      "Enter ur roll number20731a0400\n"
     ]
    }
   ],
   "source": [
    "rollno = input(\"Enter ur roll number\")"
   ]
  },
  {
   "cell_type": "code",
   "execution_count": 37,
   "id": "23da654c",
   "metadata": {},
   "outputs": [
    {
     "name": "stdout",
     "output_type": "stream",
     "text": [
      "20731a0400\n"
     ]
    }
   ],
   "source": [
    "print(rollno)"
   ]
  },
  {
   "cell_type": "code",
   "execution_count": null,
   "id": "a7539df7",
   "metadata": {},
   "outputs": [],
   "source": []
  }
 ],
 "metadata": {
  "kernelspec": {
   "display_name": "Python 3 (ipykernel)",
   "language": "python",
   "name": "python3"
  },
  "language_info": {
   "codemirror_mode": {
    "name": "ipython",
    "version": 3
   },
   "file_extension": ".py",
   "mimetype": "text/x-python",
   "name": "python",
   "nbconvert_exporter": "python",
   "pygments_lexer": "ipython3",
   "version": "3.7.5"
  }
 },
 "nbformat": 4,
 "nbformat_minor": 5
}
