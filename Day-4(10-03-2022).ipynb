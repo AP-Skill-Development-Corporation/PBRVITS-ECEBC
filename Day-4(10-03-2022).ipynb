{
 "cells": [
  {
   "cell_type": "code",
   "execution_count": 1,
   "id": "fbfdb958",
   "metadata": {},
   "outputs": [
    {
     "name": "stdout",
     "output_type": "stream",
     "text": [
      "1 6 11 "
     ]
    }
   ],
   "source": [
    "for i in range(1,15,5):\n",
    "    print(i,end=\" \")"
   ]
  },
  {
   "cell_type": "code",
   "execution_count": 3,
   "id": "ad695b6c",
   "metadata": {},
   "outputs": [],
   "source": [
    "for k in range(20,30,-2):\n",
    "    print(k)"
   ]
  },
  {
   "cell_type": "code",
   "execution_count": 9,
   "id": "c4c140ea",
   "metadata": {},
   "outputs": [
    {
     "name": "stdout",
     "output_type": "stream",
     "text": [
      "Enter your namerushi\n",
      "u i "
     ]
    }
   ],
   "source": [
    "#program to check vowels in that name\n",
    "m=input(\"Enter your name\")\n",
    "for i in m:\n",
    "    if i=='a' or i=='e' or i=='i' or i=='o' or i=='u':\n",
    "        print(i,end= \" \")"
   ]
  },
  {
   "cell_type": "markdown",
   "id": "65987261",
   "metadata": {},
   "source": [
    "- WAP to print all factors of a given number.\n",
    "```\n",
    "i/p: enter a number: 18\n",
    "o/p: 1 2 3 6 9 18\n",
    "```"
   ]
  },
  {
   "cell_type": "code",
   "execution_count": 11,
   "id": "dd96e1e1",
   "metadata": {},
   "outputs": [
    {
     "name": "stdout",
     "output_type": "stream",
     "text": [
      "Enter a number: 200\n",
      "1 2 4 5 8 10 20 25 40 50 100 200 "
     ]
    }
   ],
   "source": [
    "# task-1\n",
    "n = int(input(\"Enter a number: \"))\n",
    "for i in range(1,n+1):\n",
    "    if n%i==0:\n",
    "        print(i,end=\" \")"
   ]
  },
  {
   "cell_type": "code",
   "execution_count": 14,
   "id": "c6454dd4",
   "metadata": {},
   "outputs": [
    {
     "name": "stdout",
     "output_type": "stream",
     "text": [
      "Enter a number: 10\n",
      "2 10 "
     ]
    }
   ],
   "source": [
    "# even factors\n",
    "n = int(input(\"Enter a number: \"))\n",
    "for i in range(1,n+1):\n",
    "    if n%i==0 and i%2==0:\n",
    "        print(i,end=\" \")"
   ]
  },
  {
   "cell_type": "code",
   "execution_count": 15,
   "id": "012db87a",
   "metadata": {},
   "outputs": [
    {
     "name": "stdout",
     "output_type": "stream",
     "text": [
      "Enter first value: 1\n",
      "Enter second value: 7\n",
      "1\n",
      "2\n",
      "3\n",
      "4\n",
      "5\n",
      "6\n",
      "7\n"
     ]
    }
   ],
   "source": [
    "m = int(input(\"Enter first value: \"))\n",
    "n = int(input(\"Enter second value: \"))\n",
    "for i in range(m,n+1):\n",
    "    print(i)"
   ]
  },
  {
   "cell_type": "markdown",
   "id": "527b9ddf",
   "metadata": {},
   "source": [
    "## Tasks\n",
    "\n",
    "- WAP to print common factors for given two numbers\n",
    "- WAP to print all consonants in a given string\n",
    "- WAP to print multiplication table for a given number\n",
    "- WAP to print all odd numbers in a given range.\n",
    "- WAP to print sum of all even factors of a given number.\n",
    "- WAP to count number of factors of a given number.\n",
    "- WAP to print sum of all factors of a given number.\n",
    "- WAP to print factorial value of a given number.\n",
    "- WAP to number of vowels and consonants in a given string.\n",
    "- prime number program\n",
    "- abundant or excessive number\n",
    "```\n",
    "12 --> 1 2 3 4 6 = 16\n",
    "sum > given num ==> abundant number\n",
    "else excessive number\n",
    "```"
   ]
  },
  {
   "cell_type": "code",
   "execution_count": 21,
   "id": "1c08acf9",
   "metadata": {},
   "outputs": [
    {
     "name": "stdout",
     "output_type": "stream",
     "text": [
      "19\n",
      "11\n",
      "1\n"
     ]
    }
   ],
   "source": [
    "# Task-1\n",
    "a = int(input())\n",
    "b = int(input())\n",
    "if a>b:n = b\n",
    "else:n = a\n",
    "for i in range(1,n+1):\n",
    "    if a%i==0 and b%i==0:\n",
    "        print(i)"
   ]
  },
  {
   "cell_type": "code",
   "execution_count": null,
   "id": "e3b1bb80",
   "metadata": {},
   "outputs": [],
   "source": [
    "100 --> 1 2 4 5 10 20 25 50 100\n",
    "200 --> 1 2 4 5 8 10 20 25 40 50 100 200"
   ]
  },
  {
   "cell_type": "code",
   "execution_count": null,
   "id": "99bf636f",
   "metadata": {},
   "outputs": [],
   "source": [
    "18 --> 1 2 3 6 9 18\n",
    "12 --> 1 2 3 4 6 12"
   ]
  },
  {
   "cell_type": "code",
   "execution_count": 24,
   "id": "e82c55d7",
   "metadata": {},
   "outputs": [
    {
     "name": "stdout",
     "output_type": "stream",
     "text": [
      "Enter ur nameRUSHI\n",
      "R\n",
      "U\n",
      "S\n",
      "H\n",
      "I\n"
     ]
    }
   ],
   "source": [
    "# Task-2\n",
    "s = input(\"Enter ur name\")\n",
    "for i in s:\n",
    "    if i!='a' and i!='e' and i!='i' and i!='o' and i!='u':\n",
    "        print(i)"
   ]
  },
  {
   "cell_type": "code",
   "execution_count": 27,
   "id": "18002257",
   "metadata": {},
   "outputs": [
    {
     "name": "stdout",
     "output_type": "stream",
     "text": [
      "Enter ur namevisvoDaYA\n",
      "v\n",
      "s\n",
      "v\n",
      "D\n",
      "Y\n"
     ]
    }
   ],
   "source": [
    "s = input(\"Enter ur name\")\n",
    "for i in s:\n",
    "    if i not in 'aeiouAEIOU':\n",
    "        print(i)"
   ]
  },
  {
   "cell_type": "code",
   "execution_count": 29,
   "id": "5410a977",
   "metadata": {},
   "outputs": [
    {
     "name": "stdout",
     "output_type": "stream",
     "text": [
      "Enter a number: 18\n",
      "26\n"
     ]
    }
   ],
   "source": [
    "# WAP to print sum of all even factors of a given number.\n",
    "a = int(input(\"Enter a number: \"))\n",
    "efs=0\n",
    "for i in range(1,a+1):\n",
    "    if a%i==0 and i%2==0:\n",
    "        efs += i\n",
    "print(efs)"
   ]
  },
  {
   "cell_type": "code",
   "execution_count": 32,
   "id": "00d5bd30",
   "metadata": {},
   "outputs": [
    {
     "name": "stdout",
     "output_type": "stream",
     "text": [
      "Enter a number: 15\n",
      "225\n"
     ]
    }
   ],
   "source": [
    "# WAP to print multiplication of all odd factors \n",
    "#of a given number.\n",
    "b = int(input(\"Enter a number: \"))\n",
    "ofm=1\n",
    "for i in range(1,b+1):\n",
    "    if b%i==0 and i%2==1:\n",
    "        ofm *= i\n",
    "print(ofm)"
   ]
  },
  {
   "cell_type": "code",
   "execution_count": 34,
   "id": "5cc6e4ad",
   "metadata": {},
   "outputs": [
    {
     "name": "stdout",
     "output_type": "stream",
     "text": [
      "Enter a number: 200\n",
      "12\n"
     ]
    }
   ],
   "source": [
    "# factors count\n",
    "n = int(input(\"Enter a number: \"))\n",
    "c = 0\n",
    "for i in range(1,n+1):\n",
    "    if n%i==0:\n",
    "        c += 1\n",
    "print(c)"
   ]
  },
  {
   "cell_type": "code",
   "execution_count": 36,
   "id": "a2c212e4",
   "metadata": {},
   "outputs": [
    {
     "name": "stdout",
     "output_type": "stream",
     "text": [
      "Enter a number: 10\n",
      "8\n"
     ]
    }
   ],
   "source": [
    "# factors sum\n",
    "n = int(input(\"Enter a number: \"))\n",
    "s = 0\n",
    "for i in range(1,n):\n",
    "    if n%i==0:\n",
    "        s += i\n",
    "print(s)"
   ]
  },
  {
   "cell_type": "code",
   "execution_count": 8,
   "id": "bcc004d3",
   "metadata": {},
   "outputs": [
    {
     "name": "stdout",
     "output_type": "stream",
     "text": [
      "Enter a number: 6\n",
      "Perfect number\n"
     ]
    }
   ],
   "source": [
    "# perfect number\n",
    "# 6 --> 1 2 3\n",
    "# 28 --> 1 2 4 7 14 \n",
    "\n",
    "n = int(input(\"Enter a number: \"))\n",
    "s = 0\n",
    "for i in range(1,n//2+1):\n",
    "    if n%i==0:\n",
    "        s += i\n",
    "if n==s:\n",
    "    print(\"Perfect number\")\n",
    "else:\n",
    "    print(\"Not a perfect number\")"
   ]
  },
  {
   "cell_type": "markdown",
   "id": "d5ced25c",
   "metadata": {},
   "source": [
    "## While loop\n",
    "\n",
    "- based on a condition if we want to repeat the execution of one or more statements then we use while loop.\n",
    "```\n",
    "var initialization\n",
    "while condition:\n",
    "    statements\n",
    "    incre/decre\n",
    "```"
   ]
  },
  {
   "cell_type": "code",
   "execution_count": null,
   "id": "0d6d1ab3",
   "metadata": {},
   "outputs": [],
   "source": [
    "for i in range(11):\n",
    "    print(i)"
   ]
  },
  {
   "cell_type": "code",
   "execution_count": 2,
   "id": "26cbd05a",
   "metadata": {
    "scrolled": true
   },
   "outputs": [
    {
     "name": "stdout",
     "output_type": "stream",
     "text": [
      "1 2 3 4 5 6 7 8 9 10 "
     ]
    }
   ],
   "source": [
    "# 1 to 10 number using while loop\n",
    "i=1\n",
    "while i<11:\n",
    "    print(i,end=\" \")\n",
    "    i += 1"
   ]
  },
  {
   "cell_type": "markdown",
   "id": "b940a074",
   "metadata": {},
   "source": [
    "20 19 18 17 16 15 14 13 12 11 10"
   ]
  },
  {
   "cell_type": "code",
   "execution_count": 3,
   "id": "0b6dee37",
   "metadata": {},
   "outputs": [
    {
     "name": "stdout",
     "output_type": "stream",
     "text": [
      "20\n",
      "19\n",
      "18\n",
      "17\n",
      "16\n",
      "15\n",
      "14\n",
      "13\n",
      "12\n",
      "11\n",
      "10\n"
     ]
    }
   ],
   "source": [
    "# 10 to 20 numbers in reverse order using while loop\n",
    "i=20\n",
    "while i>=10:\n",
    "    print(i)\n",
    "    i -= 1"
   ]
  },
  {
   "cell_type": "code",
   "execution_count": 1,
   "id": "5e1af715",
   "metadata": {},
   "outputs": [
    {
     "name": "stdout",
     "output_type": "stream",
     "text": [
      "Enter a number: 14\n",
      "1 2 7 14 "
     ]
    }
   ],
   "source": [
    "# factors\n",
    "m = int(input(\"Enter a number: \"))\n",
    "i = 1\n",
    "while i<=m:\n",
    "    if m%i==0:\n",
    "        print(i,end=\" \")\n",
    "    i += 1"
   ]
  },
  {
   "cell_type": "markdown",
   "id": "ba25bbce",
   "metadata": {},
   "source": [
    "- Practice all examples with while loop"
   ]
  },
  {
   "cell_type": "markdown",
   "id": "27a587dd",
   "metadata": {},
   "source": [
    "### Loop control Statements\n",
    "\n",
    "- break\n",
    "    - to terminate or close the entire loop based on a condition.\n",
    "- continue\n",
    "    - to skip the iteration at a particular condition.\n",
    "- pass\n",
    "    - to write a empty loops or conditions."
   ]
  },
  {
   "cell_type": "code",
   "execution_count": 3,
   "id": "b158e9ea",
   "metadata": {},
   "outputs": [
    {
     "name": "stdout",
     "output_type": "stream",
     "text": [
      "10 11 12 13 14 15 16 17 18 19 20 21 22 23 24 25 "
     ]
    }
   ],
   "source": [
    "for i in range(10,50):\n",
    "    if i==26:\n",
    "        break\n",
    "    print(i,end=\" \")"
   ]
  },
  {
   "cell_type": "code",
   "execution_count": 5,
   "id": "d385016f",
   "metadata": {},
   "outputs": [
    {
     "name": "stdout",
     "output_type": "stream",
     "text": [
      "10 11 13 14 15 16 17 18 19 20 21 22 23 25 26 27 28 29 "
     ]
    }
   ],
   "source": [
    "for i in range(10,30):\n",
    "    if i%4==0 and i%6==0:\n",
    "        continue\n",
    "    print(i,end=\" \")"
   ]
  },
  {
   "cell_type": "code",
   "execution_count": 7,
   "id": "365b12a0",
   "metadata": {},
   "outputs": [],
   "source": [
    "for i in range(1,10):\n",
    "    pass"
   ]
  },
  {
   "cell_type": "markdown",
   "id": "acf4db91",
   "metadata": {},
   "source": [
    "- wap to skip all the values which are divible by 3 and not by 6"
   ]
  },
  {
   "cell_type": "code",
   "execution_count": null,
   "id": "6c747da7",
   "metadata": {},
   "outputs": [],
   "source": [
    "# 10 30 --> 10 11 12 13 14 16 17 18 19\n",
    "a = int(input())\n",
    "b = int(input())\n",
    "for j in range(a,b+1):\n",
    "    "
   ]
  },
  {
   "cell_type": "code",
   "execution_count": 12,
   "id": "1f478508",
   "metadata": {},
   "outputs": [
    {
     "name": "stdout",
     "output_type": "stream",
     "text": [
      "* * * * * \n",
      "* * * * * \n",
      "* * * * * \n",
      "* * * * * \n",
      "* * * * * \n"
     ]
    }
   ],
   "source": [
    "for i in range(1,6):\n",
    "    for j in range(1,6):\n",
    "        print('*',end=\" \")\n",
    "    print()"
   ]
  },
  {
   "cell_type": "code",
   "execution_count": 5,
   "id": "e28be070",
   "metadata": {},
   "outputs": [
    {
     "name": "stdout",
     "output_type": "stream",
     "text": [
      "1 1 1 1 1 \n",
      "2 2 2 2 2 \n",
      "3 3 3 3 3 \n",
      "4 4 4 4 4 \n",
      "5 5 5 5 5 \n"
     ]
    }
   ],
   "source": [
    "for i in range(1,6):\n",
    "    for j in range(1,6):\n",
    "        print(i,end=\" \")\n",
    "    print()"
   ]
  },
  {
   "cell_type": "code",
   "execution_count": 6,
   "id": "c08acf6e",
   "metadata": {},
   "outputs": [
    {
     "name": "stdout",
     "output_type": "stream",
     "text": [
      "1 2 3 4 5 \n",
      "1 2 3 4 5 \n",
      "1 2 3 4 5 \n",
      "1 2 3 4 5 \n",
      "1 2 3 4 5 \n"
     ]
    }
   ],
   "source": [
    "for i in range(1,6):\n",
    "    for j in range(1,6):\n",
    "        print(j,end=\" \")\n",
    "    print()"
   ]
  },
  {
   "cell_type": "code",
   "execution_count": 8,
   "id": "5582699d",
   "metadata": {},
   "outputs": [
    {
     "name": "stdout",
     "output_type": "stream",
     "text": [
      "\n",
      "1 \n",
      "1 2 \n",
      "1 2 3 \n",
      "1 2 3 4 \n"
     ]
    }
   ],
   "source": [
    "for i in range(1,6):\n",
    "    for j in range(1,i):\n",
    "        print(j,end=\" \")\n",
    "    print()"
   ]
  },
  {
   "cell_type": "code",
   "execution_count": 9,
   "id": "8bc3c14f",
   "metadata": {},
   "outputs": [
    {
     "name": "stdout",
     "output_type": "stream",
     "text": [
      "1 \n",
      "1 2 \n",
      "1 2 3 \n",
      "1 2 3 4 \n",
      "1 2 3 4 5 \n"
     ]
    }
   ],
   "source": [
    "for i in range(1,6):\n",
    "    for j in range(1,i+1):\n",
    "        print(j,end=\" \")\n",
    "    print()"
   ]
  },
  {
   "cell_type": "code",
   "execution_count": 10,
   "id": "85ad9f8a",
   "metadata": {},
   "outputs": [
    {
     "name": "stdout",
     "output_type": "stream",
     "text": [
      "1 2 3 4 5 6 \n",
      "1 2 3 4 5 \n",
      "1 2 3 4 \n",
      "1 2 3 \n",
      "1 2 \n",
      "1 \n"
     ]
    }
   ],
   "source": [
    "for i in range(6,0,-1):\n",
    "    for j in range(1,i+1):\n",
    "        print(j,end=\" \")\n",
    "    print()"
   ]
  },
  {
   "cell_type": "code",
   "execution_count": 13,
   "id": "a091f8d2",
   "metadata": {},
   "outputs": [
    {
     "name": "stdout",
     "output_type": "stream",
     "text": [
      "* \n",
      "* * \n",
      "* * * \n",
      "* * * * \n",
      "* * * * * \n"
     ]
    }
   ],
   "source": [
    "for i in range(1,6):\n",
    "    for j in range(1,i+1):\n",
    "        print('*',end=\" \")\n",
    "    print()"
   ]
  },
  {
   "cell_type": "code",
   "execution_count": null,
   "id": "27df58cd",
   "metadata": {},
   "outputs": [],
   "source": []
  }
 ],
 "metadata": {
  "kernelspec": {
   "display_name": "Python 3 (ipykernel)",
   "language": "python",
   "name": "python3"
  },
  "language_info": {
   "codemirror_mode": {
    "name": "ipython",
    "version": 3
   },
   "file_extension": ".py",
   "mimetype": "text/x-python",
   "name": "python",
   "nbconvert_exporter": "python",
   "pygments_lexer": "ipython3",
   "version": "3.7.5"
  }
 },
 "nbformat": 4,
 "nbformat_minor": 5
}
