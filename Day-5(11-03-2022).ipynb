{
 "cells": [
  {
   "cell_type": "markdown",
   "id": "84763017",
   "metadata": {},
   "source": [
    "### Strings\n",
    "- Sequence of characters or collection of characters or set of characters.\n",
    "- we can define a string by using single, double or triple quotations.\n",
    "    - single or double --> single line strings.\n",
    "    - triple  --> multiline strings."
   ]
  },
  {
   "cell_type": "code",
   "execution_count": 4,
   "id": "3bedc0ec",
   "metadata": {},
   "outputs": [],
   "source": [
    "s1 = 'visvodaya college'\n",
    "s2 = \"andhra pradesh\"\n",
    "s3 = '''This is a \n",
    "multiline string\n",
    "defined with triple\n",
    "quotations'''"
   ]
  },
  {
   "cell_type": "code",
   "execution_count": 5,
   "id": "52485333",
   "metadata": {},
   "outputs": [
    {
     "name": "stdout",
     "output_type": "stream",
     "text": [
      "visvodaya college\n",
      "andhra pradesh\n"
     ]
    }
   ],
   "source": [
    "print(s1)\n",
    "print(s2)"
   ]
  },
  {
   "cell_type": "code",
   "execution_count": 6,
   "id": "47afe692",
   "metadata": {},
   "outputs": [
    {
     "name": "stdout",
     "output_type": "stream",
     "text": [
      "This is a \n",
      "multiline string\n",
      "defined with triple\n",
      "quotations\n"
     ]
    }
   ],
   "source": [
    "print(s3)"
   ]
  },
  {
   "cell_type": "code",
   "execution_count": 7,
   "id": "a9a05a2b",
   "metadata": {
    "collapsed": true
   },
   "outputs": [
    {
     "ename": "SyntaxError",
     "evalue": "EOL while scanning string literal (2724783699.py, line 1)",
     "output_type": "error",
     "traceback": [
      "\u001b[1;36m  File \u001b[1;32m\"C:\\Users\\Lab\\AppData\\Local\\Temp\\ipykernel_1952\\2724783699.py\"\u001b[1;36m, line \u001b[1;32m1\u001b[0m\n\u001b[1;33m    s = \"hello everyone\u001b[0m\n\u001b[1;37m                       ^\u001b[0m\n\u001b[1;31mSyntaxError\u001b[0m\u001b[1;31m:\u001b[0m EOL while scanning string literal\n"
     ]
    }
   ],
   "source": [
    "s = \"hello everyone\n",
    "good afternoon\"\n",
    "# we can't define a multiline string using double quotes"
   ]
  },
  {
   "cell_type": "code",
   "execution_count": 12,
   "id": "c1942d5f",
   "metadata": {
    "collapsed": true
   },
   "outputs": [
    {
     "name": "stdout",
     "output_type": "stream",
     "text": [
      "c\n",
      "o\n",
      "m\n",
      "m\n",
      "u\n",
      "n\n",
      "i\n",
      "c\n",
      "a\n",
      "t\n",
      "i\n",
      "o\n",
      "n\n"
     ]
    }
   ],
   "source": [
    "s = 'communication'\n",
    "# iterate through loop\n",
    "for i in s:\n",
    "    print(i)"
   ]
  },
  {
   "cell_type": "code",
   "execution_count": 13,
   "id": "408723da",
   "metadata": {},
   "outputs": [
    {
     "name": "stdout",
     "output_type": "stream",
     "text": [
      "13\n"
     ]
    }
   ],
   "source": [
    "c = 0\n",
    "for i in s:\n",
    "    c += 1\n",
    "print(c)"
   ]
  },
  {
   "cell_type": "code",
   "execution_count": 14,
   "id": "8000988c",
   "metadata": {},
   "outputs": [
    {
     "data": {
      "text/plain": [
       "13"
      ]
     },
     "execution_count": 14,
     "metadata": {},
     "output_type": "execute_result"
    }
   ],
   "source": [
    "# len(str_name) --> it will return the length of string\n",
    "len(s)"
   ]
  },
  {
   "cell_type": "code",
   "execution_count": 17,
   "id": "47656518",
   "metadata": {},
   "outputs": [
    {
     "data": {
      "text/plain": [
       "15"
      ]
     },
     "execution_count": 17,
     "metadata": {},
     "output_type": "execute_result"
    }
   ],
   "source": [
    "k = 'hello world !!.'\n",
    "len(k)"
   ]
  },
  {
   "cell_type": "code",
   "execution_count": 18,
   "id": "5f2eb3b2",
   "metadata": {},
   "outputs": [
    {
     "data": {
      "text/plain": [
       "22"
      ]
     },
     "execution_count": 18,
     "metadata": {},
     "output_type": "execute_result"
    }
   ],
   "source": [
    "p = \"(this is last se$$ion)\"\n",
    "len(p)"
   ]
  },
  {
   "cell_type": "code",
   "execution_count": 19,
   "id": "2e7ab70c",
   "metadata": {},
   "outputs": [
    {
     "data": {
      "text/plain": [
       "True"
      ]
     },
     "execution_count": 19,
     "metadata": {},
     "output_type": "execute_result"
    }
   ],
   "source": [
    "'w' in k"
   ]
  },
  {
   "cell_type": "markdown",
   "id": "fbcc8894",
   "metadata": {},
   "source": [
    "### String indexing and slicing\n",
    "- string indexing starts from 0\n",
    "- types of indexing:\n",
    "    1. positive or forward indexing\n",
    "        - left to right\n",
    "        - index starts from 0 to end of the string\n",
    "    2. negative or backward indexing\n",
    "        - from right ot left\n",
    "        - index starts from -1\n",
    "        \n",
    "- str_name[index_value]\n",
    "- Immutable object."
   ]
  },
  {
   "cell_type": "code",
   "execution_count": 23,
   "id": "d83af986",
   "metadata": {},
   "outputs": [],
   "source": [
    "s = \"software experiments\""
   ]
  },
  {
   "cell_type": "code",
   "execution_count": 25,
   "id": "e286b027",
   "metadata": {},
   "outputs": [
    {
     "data": {
      "text/plain": [
       "'w'"
      ]
     },
     "execution_count": 25,
     "metadata": {},
     "output_type": "execute_result"
    }
   ],
   "source": [
    "s[4] # w"
   ]
  },
  {
   "cell_type": "code",
   "execution_count": 27,
   "id": "2f9a592a",
   "metadata": {},
   "outputs": [
    {
     "data": {
      "text/plain": [
       "'x'"
      ]
     },
     "execution_count": 27,
     "metadata": {},
     "output_type": "execute_result"
    }
   ],
   "source": [
    "s[10] # +ve ind\n",
    "s[-10] # -ve ind"
   ]
  },
  {
   "cell_type": "code",
   "execution_count": 29,
   "id": "7cec709b",
   "metadata": {},
   "outputs": [
    {
     "data": {
      "text/plain": [
       "' '"
      ]
     },
     "execution_count": 29,
     "metadata": {},
     "output_type": "execute_result"
    }
   ],
   "source": [
    "s[8] # ' '\n",
    "s[-12] "
   ]
  },
  {
   "cell_type": "code",
   "execution_count": null,
   "id": "c76dfb8e",
   "metadata": {},
   "outputs": [],
   "source": [
    "range(n)\n",
    "range(m,n)\n",
    "range(m,n,p)"
   ]
  },
  {
   "cell_type": "markdown",
   "id": "cacda059",
   "metadata": {},
   "source": [
    "### Slicing\n",
    "- process of accessing sub strings from main string.\n",
    "- str_name[start_ind:end_ind:incre/decre]\n",
    "    - default starting index is 0\n",
    "    - default ending index len(str)-1\n",
    "    - default increment value is +1"
   ]
  },
  {
   "cell_type": "code",
   "execution_count": 31,
   "id": "ecdd4065",
   "metadata": {
    "scrolled": true
   },
   "outputs": [
    {
     "data": {
      "text/plain": [
       "'software experiments'"
      ]
     },
     "execution_count": 31,
     "metadata": {},
     "output_type": "execute_result"
    }
   ],
   "source": [
    "s"
   ]
  },
  {
   "cell_type": "code",
   "execution_count": 37,
   "id": "303aef53",
   "metadata": {},
   "outputs": [
    {
     "data": {
      "text/plain": [
       "20"
      ]
     },
     "execution_count": 37,
     "metadata": {},
     "output_type": "execute_result"
    }
   ],
   "source": [
    "len(s)"
   ]
  },
  {
   "cell_type": "code",
   "execution_count": 32,
   "id": "6d8e1e24",
   "metadata": {},
   "outputs": [
    {
     "data": {
      "text/plain": [
       "'soft'"
      ]
     },
     "execution_count": 32,
     "metadata": {},
     "output_type": "execute_result"
    }
   ],
   "source": [
    "s[0:4]"
   ]
  },
  {
   "cell_type": "code",
   "execution_count": 33,
   "id": "6b3ef43e",
   "metadata": {},
   "outputs": [
    {
     "data": {
      "text/plain": [
       "'xp'"
      ]
     },
     "execution_count": 33,
     "metadata": {},
     "output_type": "execute_result"
    }
   ],
   "source": [
    "# xp\n",
    "s[10:12]"
   ]
  },
  {
   "cell_type": "code",
   "execution_count": null,
   "id": "f987d210",
   "metadata": {},
   "outputs": [],
   "source": [
    "range(13,8) #"
   ]
  },
  {
   "cell_type": "code",
   "execution_count": 36,
   "id": "d15aa990",
   "metadata": {},
   "outputs": [
    {
     "data": {
      "text/plain": [
       "'men'"
      ]
     },
     "execution_count": 36,
     "metadata": {},
     "output_type": "execute_result"
    }
   ],
   "source": [
    "# men using negative indexing\n",
    "s[-5:-2]"
   ]
  },
  {
   "cell_type": "code",
   "execution_count": 34,
   "id": "b1d7979b",
   "metadata": {},
   "outputs": [
    {
     "data": {
      "text/plain": [
       "''"
      ]
     },
     "execution_count": 34,
     "metadata": {},
     "output_type": "execute_result"
    }
   ],
   "source": [
    "s[-3:-6]"
   ]
  },
  {
   "cell_type": "code",
   "execution_count": 35,
   "id": "01699ba4",
   "metadata": {
    "scrolled": false
   },
   "outputs": [
    {
     "data": {
      "text/plain": [
       "''"
      ]
     },
     "execution_count": 35,
     "metadata": {},
     "output_type": "execute_result"
    }
   ],
   "source": [
    "s[-2:-5]"
   ]
  },
  {
   "cell_type": "code",
   "execution_count": 38,
   "id": "991c30e1",
   "metadata": {},
   "outputs": [
    {
     "data": {
      "text/plain": [
       "'software experiments'"
      ]
     },
     "execution_count": 38,
     "metadata": {},
     "output_type": "execute_result"
    }
   ],
   "source": [
    "s"
   ]
  },
  {
   "cell_type": "code",
   "execution_count": 41,
   "id": "41b92c5d",
   "metadata": {
    "collapsed": true
   },
   "outputs": [
    {
     "name": "stdout",
     "output_type": "stream",
     "text": [
      "software experiments\n",
      "software experiments\n",
      "software experiments\n",
      "software experiments\n",
      "software experiments\n",
      "software experiments\n"
     ]
    }
   ],
   "source": [
    "print(s[:])\n",
    "print(s[0:])\n",
    "print(s[:20])\n",
    "print(s[::])\n",
    "print(s[0:20:1])\n",
    "print(s)"
   ]
  },
  {
   "cell_type": "code",
   "execution_count": 42,
   "id": "8424092b",
   "metadata": {},
   "outputs": [
    {
     "data": {
      "text/plain": [
       "'re expe'"
      ]
     },
     "execution_count": 42,
     "metadata": {},
     "output_type": "execute_result"
    }
   ],
   "source": [
    "s[6:13] # "
   ]
  },
  {
   "cell_type": "code",
   "execution_count": 43,
   "id": "cceb22d1",
   "metadata": {},
   "outputs": [
    {
     "data": {
      "text/plain": [
       "'mrpeea'"
      ]
     },
     "execution_count": 43,
     "metadata": {},
     "output_type": "execute_result"
    }
   ],
   "source": [
    "s[15:3:-2] #mrpeea"
   ]
  },
  {
   "cell_type": "code",
   "execution_count": 44,
   "id": "2b0a1054",
   "metadata": {},
   "outputs": [
    {
     "data": {
      "text/plain": [
       "'software experiments'"
      ]
     },
     "execution_count": 44,
     "metadata": {},
     "output_type": "execute_result"
    }
   ],
   "source": [
    "s"
   ]
  },
  {
   "cell_type": "code",
   "execution_count": 45,
   "id": "90461f06",
   "metadata": {},
   "outputs": [
    {
     "data": {
      "text/plain": [
       "'sfwr xeiet'"
      ]
     },
     "execution_count": 45,
     "metadata": {},
     "output_type": "execute_result"
    }
   ],
   "source": [
    "s[::2] #"
   ]
  },
  {
   "cell_type": "code",
   "execution_count": 50,
   "id": "57e0f675",
   "metadata": {},
   "outputs": [
    {
     "data": {
      "text/plain": [
       "'serx'"
      ]
     },
     "execution_count": 50,
     "metadata": {},
     "output_type": "execute_result"
    }
   ],
   "source": [
    "# serx\n",
    "s[-1:9:-3]"
   ]
  },
  {
   "cell_type": "code",
   "execution_count": 51,
   "id": "6b06bfa5",
   "metadata": {},
   "outputs": [
    {
     "data": {
      "text/plain": [
       "'snmrpeeato'"
      ]
     },
     "execution_count": 51,
     "metadata": {},
     "output_type": "execute_result"
    }
   ],
   "source": [
    "s[::-2] #snm"
   ]
  },
  {
   "cell_type": "code",
   "execution_count": 52,
   "id": "97875f22",
   "metadata": {},
   "outputs": [
    {
     "data": {
      "text/plain": [
       "'stnemirepxe erawtfos'"
      ]
     },
     "execution_count": 52,
     "metadata": {},
     "output_type": "execute_result"
    }
   ],
   "source": [
    "s[::-1]"
   ]
  },
  {
   "cell_type": "code",
   "execution_count": 58,
   "id": "c152c51d",
   "metadata": {
    "collapsed": true
   },
   "outputs": [
    {
     "name": "stdout",
     "output_type": "stream",
     "text": [
      "level\n",
      "Palindrome\n"
     ]
    }
   ],
   "source": [
    "s = input()\n",
    "if s==s[::-1]:\n",
    "    print(\"Palindrome\")\n",
    "else:\n",
    "    print(\"Not\")"
   ]
  },
  {
   "cell_type": "markdown",
   "id": "4563e19d",
   "metadata": {},
   "source": [
    "### Immutable vs Mutable\n",
    "- Immutable : We can't change or modify anything after it's declaration.\n",
    "    - integers\n",
    "    - float values\n",
    "    - strings\n",
    "    - tuple\n",
    "- Mutable : We can update or add or delete anything from the given object at any time.\n",
    "    - lists\n",
    "    - sets\n",
    "    - dictionaries"
   ]
  },
  {
   "cell_type": "markdown",
   "id": "d85a6f58",
   "metadata": {},
   "source": [
    "## String methods\n",
    "- dir(str) -- it will display all the built-in methods in strings\n",
    "- immutable object"
   ]
  },
  {
   "cell_type": "code",
   "execution_count": 60,
   "id": "2d113e7f",
   "metadata": {},
   "outputs": [
    {
     "name": "stdout",
     "output_type": "stream",
     "text": [
      "['__add__', '__class__', '__contains__', '__delattr__', '__dir__', '__doc__', '__eq__', '__format__', '__ge__', '__getattribute__', '__getitem__', '__getnewargs__', '__gt__', '__hash__', '__init__', '__init_subclass__', '__iter__', '__le__', '__len__', '__lt__', '__mod__', '__mul__', '__ne__', '__new__', '__reduce__', '__reduce_ex__', '__repr__', '__rmod__', '__rmul__', '__setattr__', '__sizeof__', '__str__', '__subclasshook__', 'capitalize', 'casefold', 'center', 'count', 'encode', 'endswith', 'expandtabs', 'find', 'format', 'format_map', 'index', 'isalnum', 'isalpha', 'isascii', 'isdecimal', 'isdigit', 'isidentifier', 'islower', 'isnumeric', 'isprintable', 'isspace', 'istitle', 'isupper', 'join', 'ljust', 'lower', 'lstrip', 'maketrans', 'partition', 'replace', 'rfind', 'rindex', 'rjust', 'rpartition', 'rsplit', 'rstrip', 'split', 'splitlines', 'startswith', 'strip', 'swapcase', 'title', 'translate', 'upper', 'zfill']\n"
     ]
    }
   ],
   "source": [
    "print(dir(str))"
   ]
  },
  {
   "cell_type": "code",
   "execution_count": null,
   "id": "7bd8d9c3",
   "metadata": {},
   "outputs": [],
   "source": []
  }
 ],
 "metadata": {
  "kernelspec": {
   "display_name": "Python 3 (ipykernel)",
   "language": "python",
   "name": "python3"
  },
  "language_info": {
   "codemirror_mode": {
    "name": "ipython",
    "version": 3
   },
   "file_extension": ".py",
   "mimetype": "text/x-python",
   "name": "python",
   "nbconvert_exporter": "python",
   "pygments_lexer": "ipython3",
   "version": "3.7.5"
  }
 },
 "nbformat": 4,
 "nbformat_minor": 5
}
