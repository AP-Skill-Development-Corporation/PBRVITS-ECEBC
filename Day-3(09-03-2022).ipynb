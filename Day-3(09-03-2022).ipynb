{
 "cells": [
  {
   "cell_type": "markdown",
   "id": "009eac82",
   "metadata": {},
   "source": [
    "## Conditional Statements OR\n",
    "## Control Flow Statements OR\n",
    "## Decision Making Statements"
   ]
  },
  {
   "cell_type": "markdown",
   "id": "4bb85ea1",
   "metadata": {},
   "source": [
    "- Based on a condition if we want to alter the flow of execution then we use these conditional statements\n",
    "    - if  --> only one condition\n",
    "    - if else  --> two conditions\n",
    "    - if elif else  --> three conditions\n",
    "    - if elif elif ....  --> more than 3 conditions\n",
    "    - nested if  --> if we have nested conditions"
   ]
  },
  {
   "cell_type": "markdown",
   "id": "0f3e49a7",
   "metadata": {},
   "source": [
    "### if syntax:\n",
    "\n",
    "```\n",
    "if condition:\n",
    "    statements\n",
    "```"
   ]
  },
  {
   "cell_type": "code",
   "execution_count": 2,
   "id": "68e411b6",
   "metadata": {},
   "outputs": [
    {
     "name": "stdout",
     "output_type": "stream",
     "text": [
      "Enter a value: -6\n",
      "-ve\n"
     ]
    }
   ],
   "source": [
    "# program to check given number is negative or not\n",
    "num = int(input(\"Enter a value: \"))\n",
    "if num<0:\n",
    "    print(\"-ve\")"
   ]
  },
  {
   "cell_type": "code",
   "execution_count": 11,
   "id": "234451ba",
   "metadata": {},
   "outputs": [
    {
     "name": "stdout",
     "output_type": "stream",
     "text": [
      "Enter a number: 24\n"
     ]
    }
   ],
   "source": [
    "# program to check given number is divisible by 11 or not\n",
    "n = int(input('Enter a number: '))\n",
    "if n%11==0:\n",
    "    print(\"divisible by 11\")"
   ]
  },
  {
   "cell_type": "markdown",
   "id": "911e6bef",
   "metadata": {},
   "source": [
    "## if else syntax:\n",
    "\n",
    "```\n",
    "if condition:\n",
    "    statements\n",
    "else:\n",
    "    statements\n",
    "```"
   ]
  },
  {
   "cell_type": "code",
   "execution_count": 7,
   "id": "f720b595",
   "metadata": {
    "scrolled": true
   },
   "outputs": [
    {
     "name": "stdout",
     "output_type": "stream",
     "text": [
      "Enter any number: 0\n",
      "-ve\n"
     ]
    }
   ],
   "source": [
    "# Program to check given number is +ve or -ve\n",
    "a = int(input(\"Enter any number: \"))\n",
    "if a>0:\n",
    "    print(\"+ve\")\n",
    "else:\n",
    "    print(\"-ve\")"
   ]
  },
  {
   "cell_type": "markdown",
   "id": "5462bb05",
   "metadata": {},
   "source": [
    "## if elif else syntax\n",
    "\n",
    "```\n",
    "if condition:\n",
    "    statements\n",
    "elif condition:\n",
    "    statements\n",
    "else:\n",
    "    statements\n",
    "```"
   ]
  },
  {
   "cell_type": "code",
   "execution_count": 10,
   "id": "1df23d2a",
   "metadata": {},
   "outputs": [
    {
     "name": "stdout",
     "output_type": "stream",
     "text": [
      "Enter any number: 45\n",
      "+ve\n"
     ]
    }
   ],
   "source": [
    "a = int(input(\"Enter any number: \"))\n",
    "if a==0:\n",
    "    print(0)\n",
    "elif a>0:\n",
    "    print(\"+ve\")\n",
    "else:\n",
    "    print(\"-ve\")"
   ]
  },
  {
   "cell_type": "markdown",
   "id": "d81dd770",
   "metadata": {},
   "source": [
    "## Tasks\n",
    "\n",
    "- WAP to check given number is even or odd\n",
    "- WAP to check whether given number is divisible by both 4 and 5\n",
    "- WAP to check given year is leap year or not\n",
    "- WAP to check a person is eligible to vote or not by taking his/her age as input.\n",
    "- WAP to display grades of a particular student by taking his subject marks as input.\n",
    "- WAP to print minimum number from given 4 numbers."
   ]
  },
  {
   "cell_type": "code",
   "execution_count": 13,
   "id": "18865cc6",
   "metadata": {
    "collapsed": true
   },
   "outputs": [
    {
     "name": "stdout",
     "output_type": "stream",
     "text": [
      "Enter a number: 32\n",
      "Even\n"
     ]
    }
   ],
   "source": [
    "n = int(input(\"Enter a number: \"))\n",
    "if n%2==0:\n",
    "    print(\"Even\")\n",
    "else:\n",
    "    print(\"Odd\")"
   ]
  },
  {
   "cell_type": "code",
   "execution_count": 16,
   "id": "c46384de",
   "metadata": {},
   "outputs": [
    {
     "name": "stdout",
     "output_type": "stream",
     "text": [
      "Enter a number: 8\n",
      "Even\n"
     ]
    }
   ],
   "source": [
    "n = int(input(\"Enter a number: \"))\n",
    "if n%2!=1:\n",
    "    print(\"Even\")\n",
    "else:\n",
    "    print(\"Odd\")"
   ]
  },
  {
   "cell_type": "code",
   "execution_count": 19,
   "id": "56ac8971",
   "metadata": {},
   "outputs": [
    {
     "name": "stdout",
     "output_type": "stream",
     "text": [
      "80\n",
      "divisible by both 4 and 5\n"
     ]
    }
   ],
   "source": [
    "# task-2\n",
    "k = int(input())\n",
    "if (k%4==0) and (k%5==0):\n",
    "    print(\"divisible by both 4 and 5\")\n",
    "else:\n",
    "    print(\"not divisible\")"
   ]
  },
  {
   "cell_type": "code",
   "execution_count": 23,
   "id": "b0d0a577",
   "metadata": {},
   "outputs": [
    {
     "name": "stdout",
     "output_type": "stream",
     "text": [
      "2024\n",
      "Leap year\n"
     ]
    }
   ],
   "source": [
    "# task-3\n",
    "year = int(input())\n",
    "if year%400==0 or (year%4==0 and year%100!=0):\n",
    "    print(\"Leap year\")\n",
    "else:\n",
    "    print(\"Not leap year\")"
   ]
  },
  {
   "cell_type": "code",
   "execution_count": 29,
   "id": "97725da1",
   "metadata": {},
   "outputs": [
    {
     "name": "stdout",
     "output_type": "stream",
     "text": [
      "Enter ur age: 8\n",
      "You can vote after 10 year/s\n"
     ]
    }
   ],
   "source": [
    "age = int(input(\"Enter ur age: \"))\n",
    "p = 18-age\n",
    "if age>=18:\n",
    "    print(\"You can vote\")\n",
    "else:\n",
    "   #print(\"You can vote after\",18-age,\"years\") \n",
    "    print(\"You can vote after {} year/s\".format(p)) "
   ]
  },
  {
   "cell_type": "code",
   "execution_count": 30,
   "id": "0dd2f563",
   "metadata": {
    "collapsed": true
   },
   "outputs": [
    {
     "name": "stdout",
     "output_type": "stream",
     "text": [
      "76 is maximum\n"
     ]
    }
   ],
   "source": [
    "a,s,d,f = 14,76,4,21\n",
    "if a>s and a>d and a>f:\n",
    "    print(a,\"is maximum\")\n",
    "elif s>d and s>f:\n",
    "    print(s,\"is maximum\")\n",
    "elif d>f:\n",
    "    print(d,\"is max\")\n",
    "else:\n",
    "    print(f,\"is max\")"
   ]
  },
  {
   "cell_type": "markdown",
   "id": "4f7beba5",
   "metadata": {},
   "source": [
    "### nested if\n",
    "\n",
    "```\n",
    "if condition:\n",
    "    statements\n",
    "    if condition:\n",
    "        statements\n",
    "    else:\n",
    "        statements\n",
    "elif condition:\n",
    "    statments\n",
    "else:\n",
    "    statements\n",
    "    \n",
    "```"
   ]
  },
  {
   "cell_type": "code",
   "execution_count": 33,
   "id": "05d927b5",
   "metadata": {
    "collapsed": true
   },
   "outputs": [
    {
     "name": "stdout",
     "output_type": "stream",
     "text": [
      "Enter username: pbr.vits@edu.in\n",
      "Enter password: Pbr@120\n",
      "*****WELCOME*****\n"
     ]
    }
   ],
   "source": [
    "urn = 'pbr.vits@edu.in'\n",
    "pwd = 'Pbr@120'\n",
    "## using nested if\n",
    "username = input(\"Enter username: \")\n",
    "if urn==username:\n",
    "    password = input(\"Enter password: \")\n",
    "    if password==pwd:\n",
    "        print(\"*****WELCOME*****\")\n",
    "    else:\n",
    "        print(\"Invalid Password\")\n",
    "else:\n",
    "    print(\"Invalid Username\")"
   ]
  },
  {
   "cell_type": "code",
   "execution_count": null,
   "id": "76379fc4",
   "metadata": {},
   "outputs": [],
   "source": [
    "# username\n",
    "    # number --> 3 digit number\n",
    "        # password"
   ]
  },
  {
   "cell_type": "code",
   "execution_count": 36,
   "id": "7dbebe7c",
   "metadata": {
    "collapsed": true
   },
   "outputs": [
    {
     "name": "stdout",
     "output_type": "stream",
     "text": [
      "Enter ur username: vits@gmail.com\n",
      "Enter any three digit number : 345\n",
      "Enter password: pyThon3 10\n",
      "Invalid password\n"
     ]
    }
   ],
   "source": [
    "user_name = input(\"Enter ur username: \")\n",
    "if user_name == 'vits@gmail.com':\n",
    "    n = int(input(\"Enter any three digit number : \"))\n",
    "    if n>=100 and n<1000:\n",
    "        pwd = input(\"Enter password: \")\n",
    "        if pwd=='python3.10':\n",
    "            print(\"Logined Successfullyy !!\")\n",
    "        else:\n",
    "            print(\"Invalid password\")\n",
    "    elif n>=10 and n<=99:\n",
    "        print(\"THIS IS TWO DIGIT NUMBER ENTER CORRECT NUMBER\")\n",
    "    else:\n",
    "        print(\"wrong number\")\n",
    "else:\n",
    "    print(\"invalid Credentials\")"
   ]
  },
  {
   "cell_type": "markdown",
   "id": "152075d3",
   "metadata": {},
   "source": [
    "## Task\n",
    "- attendance percentage \n",
    "    - 75>=  --> all the best !!\n",
    "        - marks\n",
    "            --> 70 - 100 A\n",
    "            --> 40 - 70  B\n",
    "            ---> BELOW 40 FAIL\n",
    "   - 50 to 75\n",
    "       - reason no 1/2\n",
    "           - 100 fee\n",
    "           - 300 fee\n",
    "   - below 50\n",
    "       - ur detained....."
   ]
  },
  {
   "cell_type": "markdown",
   "id": "c3051594",
   "metadata": {},
   "source": [
    "## Loops or Iterations\n",
    "- for loop\n",
    "    - used to iterate through a sequence.\n",
    "    ```\n",
    "    for var in sequence:\n",
    "        statements\n",
    "    ```\n",
    "- while loop"
   ]
  },
  {
   "cell_type": "code",
   "execution_count": null,
   "id": "bee909ac",
   "metadata": {},
   "outputs": [],
   "source": [
    "range(19) # 0 to 18\n",
    "range(1,16) # 1 to 15\n",
    "range(20,50,3) # 20 23 26 ...\n",
    "range(40,10) #"
   ]
  },
  {
   "cell_type": "code",
   "execution_count": 37,
   "id": "bed3b3f6",
   "metadata": {
    "collapsed": true
   },
   "outputs": [
    {
     "name": "stdout",
     "output_type": "stream",
     "text": [
      "v\n",
      "i\n",
      "s\n",
      "v\n",
      "o\n",
      "d\n",
      "a\n",
      "y\n",
      "a\n"
     ]
    }
   ],
   "source": [
    "c = 'visvodaya'\n",
    "for ch in c:\n",
    "    print(ch)"
   ]
  },
  {
   "cell_type": "code",
   "execution_count": 44,
   "id": "5737c7dc",
   "metadata": {},
   "outputs": [
    {
     "name": "stdout",
     "output_type": "stream",
     "text": [
      "0 1 2 3 4 5 6 7 8 9 10 11 12 13 14 15 16 17 18 "
     ]
    }
   ],
   "source": [
    "for i in range(19):\n",
    "    print(i,end=\" \")"
   ]
  },
  {
   "cell_type": "code",
   "execution_count": 45,
   "id": "da358c22",
   "metadata": {},
   "outputs": [
    {
     "name": "stdout",
     "output_type": "stream",
     "text": [
      "1 2 3 4 5 6 7 8 9 10 11 12 13 14 15 "
     ]
    }
   ],
   "source": [
    "for k in range(1,16):\n",
    "    print(k,end=\" \")"
   ]
  },
  {
   "cell_type": "code",
   "execution_count": 48,
   "id": "88ae5abb",
   "metadata": {
    "collapsed": true
   },
   "outputs": [
    {
     "name": "stdout",
     "output_type": "stream",
     "text": [
      "1\n",
      "2\n",
      "3\n",
      "4\n",
      "5\n",
      "6\n",
      "7\n",
      "8\n",
      "9\n",
      "10\n"
     ]
    }
   ],
   "source": [
    "# 1 to 10 numbers\n",
    "for j in range(1,11):\n",
    "    print(j)"
   ]
  },
  {
   "cell_type": "code",
   "execution_count": 51,
   "id": "01f14e8b",
   "metadata": {},
   "outputs": [
    {
     "name": "stdout",
     "output_type": "stream",
     "text": [
      "10 9 8 7 6 5 4 3 2 1 0 -1 -2 -3 -4 -5 -6 -7 -8 -9 -10 "
     ]
    }
   ],
   "source": [
    "# 10 to -10 numbers using for loop\n",
    "for i in range(10,-11,-1):\n",
    "    print(i,end=\" \")"
   ]
  },
  {
   "cell_type": "code",
   "execution_count": 53,
   "id": "37305d73",
   "metadata": {},
   "outputs": [
    {
     "name": "stdout",
     "output_type": "stream",
     "text": [
      "0 10 20 30 "
     ]
    }
   ],
   "source": [
    "for i in range(0,40,10):\n",
    "    print(i,end=\" \")"
   ]
  },
  {
   "cell_type": "code",
   "execution_count": 54,
   "id": "53a5dd82",
   "metadata": {},
   "outputs": [
    {
     "name": "stdout",
     "output_type": "stream",
     "text": [
      "40 42 44 46 48 50 52 54 56 58 60 62 64 "
     ]
    }
   ],
   "source": [
    "for i in range(40,65,2):\n",
    "    print(i,end=\" \")"
   ]
  },
  {
   "cell_type": "code",
   "execution_count": 55,
   "id": "728994d5",
   "metadata": {
    "collapsed": true
   },
   "outputs": [
    {
     "name": "stdout",
     "output_type": "stream",
     "text": [
      "75 73 71 69 67 65 63 61 59 57 55 53 51 49 47 45 43 41 39 37 "
     ]
    }
   ],
   "source": [
    "# 35 75 reverse alternatives\n",
    "for p in range(75,35,-2):\n",
    "    print(p,end=\" \")"
   ]
  },
  {
   "cell_type": "code",
   "execution_count": 1,
   "id": "08000162",
   "metadata": {
    "collapsed": true
   },
   "outputs": [
    {
     "name": "stdout",
     "output_type": "stream",
     "text": [
      "20\n",
      "23\n",
      "26\n",
      "29\n",
      "32\n",
      "35\n",
      "38\n",
      "41\n",
      "44\n",
      "47\n"
     ]
    }
   ],
   "source": [
    "u = range(20,50,3)\n",
    "for i in u:\n",
    "    print(i)"
   ]
  },
  {
   "cell_type": "code",
   "execution_count": null,
   "id": "3c43330e",
   "metadata": {},
   "outputs": [],
   "source": []
  }
 ],
 "metadata": {
  "kernelspec": {
   "display_name": "Python 3 (ipykernel)",
   "language": "python",
   "name": "python3"
  },
  "language_info": {
   "codemirror_mode": {
    "name": "ipython",
    "version": 3
   },
   "file_extension": ".py",
   "mimetype": "text/x-python",
   "name": "python",
   "nbconvert_exporter": "python",
   "pygments_lexer": "ipython3",
   "version": "3.7.5"
  }
 },
 "nbformat": 4,
 "nbformat_minor": 5
}
